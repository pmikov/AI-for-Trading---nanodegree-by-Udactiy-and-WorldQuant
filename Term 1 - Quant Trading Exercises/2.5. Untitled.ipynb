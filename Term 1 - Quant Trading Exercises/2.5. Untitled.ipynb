{
 "cells": [
  {
   "cell_type": "markdown",
   "metadata": {},
   "source": [
    "Traders sometimes try to forecast volatility in order to anticipate the market.\n",
    "The general thinking is that it's easier to predict volatility than price,\n",
    "volatility tends to be sticky.\n",
    "A volatile market trading day is often followed by another volatile one.\n",
    "When you're trying to model volatility,\n",
    "you can use a special form of the autoregressive model called ARCH,\n",
    "which stands for, autoregressive conditionally heteroscedastic.\n",
    "Okay, now those are some really big words,\n",
    "so let's break it down.\n",
    "Autoregressive simply means that\n",
    "the current value is somehow related to the recent past values.\n",
    "Heteroscedastic means that the variable we're trying to\n",
    "model may have different magnitudes of variability at different time points.\n",
    "The magnitude of variability is commonly measured using variance.\n",
    "Finally, conditional here, refers to a constraint we place in this model,\n",
    "which limits the heteroscedastic property to be\n",
    "conditionally dependent on the previous value or values of the variable.\n",
    "An arch model looks really similar to the formula\n",
    "we had for an exponentially weighted moving average.\n",
    "The current variance is a weighted sum of past squared log returns,\n",
    "but now we think of the weights as being parameters of a model.\n",
    "For example, in an arch one model,\n",
    "if rt represents the log return of a stock at time t,\n",
    "then we say that its variance is equal to alpha zero,\n",
    "plus alpha one, times r t minus one squared.\n",
    "Alpha zero and alpha one are the two parameters of the model.\n",
    "You can think about alpha zero as representing a baseline variance,\n",
    "and alpha one as waiting the contribution to\n",
    "the model of the log return at the previous time point.\n",
    "This can be extended to an arch m model,\n",
    "where the variance is conditionally dependent on m past timesteps.\n",
    "Note that here, the variance is being modeled only based on the squared log returns.\n",
    "We can also add terms to make\n",
    "the current variance dependent on previous estimates of the variance.\n",
    "To address this, you could modify the expression to include\n",
    "terms with previous variance values denoted as sigma squared.\n",
    "This is known as the GARCH,\n",
    "or generalized arch model.\n",
    "And you can parameterize it as GARCH m, n,\n",
    "where m is the number of log return terms,\n",
    "and n is the number of variants terms to include in the model.\n",
    "Once you're satisfied with a model you've built,\n",
    "it's time to think about how you might use it to make trading decisions.\n",
    "You may choose to generate buy,\n",
    "sell signals directly based on your predictions,\n",
    "or you may use it in an indirect way.\n",
    "You can analyze past signal returns and see if it has somehow correlated with volatility."
   ]
  },
  {
   "cell_type": "markdown",
   "metadata": {},
   "source": [
    "## Volatility\n",
    "\n",
    "Volatility literally refers to how \"volatile\" a stock is, meaning how unpredictably its price might change. A statistical measure of dispersion, such as standard deviation, is commonly used to measure volatility.\n",
    "\n",
    "In the exercise below, you're given daily prices for two sample stocks. Compute the standard deviations of their log returns, and return the ticker symbol for the stock that is more volatile."
   ]
  },
  {
   "cell_type": "code",
   "execution_count": 2,
   "metadata": {},
   "outputs": [],
   "source": [
    "import pandas as pd\n",
    "import numpy as np\n",
    "\n",
    "def get_most_volatile(prices):\n",
    "    \"\"\"Return the ticker symbol for the most volatile stock.\n",
    "    \n",
    "    Parameters\n",
    "    ----------\n",
    "    prices : pandas.DataFrame\n",
    "        a pandas.DataFrame object with columns: ['ticker', 'date', 'price']\n",
    "    \n",
    "    Returns\n",
    "    -------\n",
    "    ticker : string\n",
    "        ticker symbol for the most volatile stock\n",
    "    \"\"\"\n",
    "    # TODO: Fill in this function.\n",
    "    pass\n",
    "\n",
    "\n",
    "def test_run(filename='prices.csv'):\n",
    "    \"\"\"Test run get_most_volatile() with stock prices from a file.\"\"\"\n",
    "    prices = pd.read_csv(filename, parse_dates=['date'])\n",
    "    print(\"Most volatile stock: {}\".format(get_most_volatile(prices)))"
   ]
  },
  {
   "cell_type": "markdown",
   "metadata": {},
   "source": [
    "## Estimate Volatility\n",
    "\n",
    "Pandas provides built-in exponentially weighted moving window functions with the .ewm method. Consider using .ewm().mean(), and be sure to properly specify the alpha parameter (hint: it is related to, but not equal to \\lambdaλ).\n",
    "\n",
    "Note that .ewm().std() and .ewm().var() implement ewmvar(x) = ewma(x**2) - ewma(x)**2, which is slightly different than what you'll want to implement for this problem."
   ]
  },
  {
   "cell_type": "code",
   "execution_count": 1,
   "metadata": {},
   "outputs": [],
   "source": [
    "import pandas as pd\n",
    "import numpy as np\n",
    "\n",
    "def estimate_volatility(prices, l):\n",
    "    \"\"\"Create an exponential moving average model of the volatility of a stock\n",
    "    price, and return the most recent (last) volatility estimate.\n",
    "    \n",
    "    Parameters\n",
    "    ----------\n",
    "    prices : pandas.Series\n",
    "        A series of adjusted closing prices for a stock.\n",
    "        \n",
    "    l : float\n",
    "        The 'lambda' parameter of the exponential moving average model. Making\n",
    "        this value smaller will cause the model to weight older terms less \n",
    "        relative to more recent terms.\n",
    "        \n",
    "    Returns\n",
    "    -------\n",
    "    last_vol : float\n",
    "        The last element of your exponential moving averge volatility model series.\n",
    "    \n",
    "    \"\"\"\n",
    "    # TODO: Implement the exponential moving average volatility model and return the last value.\n",
    "    \n",
    "    pass\n",
    "    \n",
    "def test_run(filename='data.csv'):\n",
    "    \"\"\"Test run get_most_volatile() with stock prices from a file.\"\"\"\n",
    "    prices = pd.read_csv(filename, parse_dates=['date'], index_col='date', squeeze=True)\n",
    "    print(\"Most recent volatility estimate: {:.6f}\".format(estimate_volatility(prices, 0.7)))\n"
   ]
  },
  {
   "cell_type": "code",
   "execution_count": null,
   "metadata": {},
   "outputs": [],
   "source": []
  }
 ],
 "metadata": {
  "kernelspec": {
   "display_name": "Python 3",
   "language": "python",
   "name": "python3"
  },
  "language_info": {
   "codemirror_mode": {
    "name": "ipython",
    "version": 3
   },
   "file_extension": ".py",
   "mimetype": "text/x-python",
   "name": "python",
   "nbconvert_exporter": "python",
   "pygments_lexer": "ipython3",
   "version": "3.7.6"
  }
 },
 "nbformat": 4,
 "nbformat_minor": 4
}
